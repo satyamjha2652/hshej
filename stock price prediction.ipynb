{
 "cells": [
  {
   "cell_type": "code",
   "execution_count": 1,
   "id": "15062f7c",
   "metadata": {},
   "outputs": [],
   "source": [
    "import pandas as pd"
   ]
  },
  {
   "cell_type": "code",
   "execution_count": 2,
   "id": "ea691ca4",
   "metadata": {},
   "outputs": [],
   "source": [
    "data = pd.read_csv('https://raw.githubusercontent.com/mwitiderrick/stockprice/master/NSE-TATAGLOBAL.csv')"
   ]
  },
  {
   "cell_type": "code",
   "execution_count": 3,
   "id": "3cbadcf3",
   "metadata": {},
   "outputs": [
    {
     "data": {
      "text/html": [
       "<div>\n",
       "<style scoped>\n",
       "    .dataframe tbody tr th:only-of-type {\n",
       "        vertical-align: middle;\n",
       "    }\n",
       "\n",
       "    .dataframe tbody tr th {\n",
       "        vertical-align: top;\n",
       "    }\n",
       "\n",
       "    .dataframe thead th {\n",
       "        text-align: right;\n",
       "    }\n",
       "</style>\n",
       "<table border=\"1\" class=\"dataframe\">\n",
       "  <thead>\n",
       "    <tr style=\"text-align: right;\">\n",
       "      <th></th>\n",
       "      <th>Date</th>\n",
       "      <th>Open</th>\n",
       "      <th>High</th>\n",
       "      <th>Low</th>\n",
       "      <th>Last</th>\n",
       "      <th>Close</th>\n",
       "      <th>Total Trade Quantity</th>\n",
       "      <th>Turnover (Lacs)</th>\n",
       "    </tr>\n",
       "  </thead>\n",
       "  <tbody>\n",
       "    <tr>\n",
       "      <th>0</th>\n",
       "      <td>2018-09-28</td>\n",
       "      <td>234.05</td>\n",
       "      <td>235.95</td>\n",
       "      <td>230.20</td>\n",
       "      <td>233.50</td>\n",
       "      <td>233.75</td>\n",
       "      <td>3069914</td>\n",
       "      <td>7162.35</td>\n",
       "    </tr>\n",
       "    <tr>\n",
       "      <th>1</th>\n",
       "      <td>2018-09-27</td>\n",
       "      <td>234.55</td>\n",
       "      <td>236.80</td>\n",
       "      <td>231.10</td>\n",
       "      <td>233.80</td>\n",
       "      <td>233.25</td>\n",
       "      <td>5082859</td>\n",
       "      <td>11859.95</td>\n",
       "    </tr>\n",
       "    <tr>\n",
       "      <th>2</th>\n",
       "      <td>2018-09-26</td>\n",
       "      <td>240.00</td>\n",
       "      <td>240.00</td>\n",
       "      <td>232.50</td>\n",
       "      <td>235.00</td>\n",
       "      <td>234.25</td>\n",
       "      <td>2240909</td>\n",
       "      <td>5248.60</td>\n",
       "    </tr>\n",
       "    <tr>\n",
       "      <th>3</th>\n",
       "      <td>2018-09-25</td>\n",
       "      <td>233.30</td>\n",
       "      <td>236.75</td>\n",
       "      <td>232.00</td>\n",
       "      <td>236.25</td>\n",
       "      <td>236.10</td>\n",
       "      <td>2349368</td>\n",
       "      <td>5503.90</td>\n",
       "    </tr>\n",
       "    <tr>\n",
       "      <th>4</th>\n",
       "      <td>2018-09-24</td>\n",
       "      <td>233.55</td>\n",
       "      <td>239.20</td>\n",
       "      <td>230.75</td>\n",
       "      <td>234.00</td>\n",
       "      <td>233.30</td>\n",
       "      <td>3423509</td>\n",
       "      <td>7999.55</td>\n",
       "    </tr>\n",
       "    <tr>\n",
       "      <th>...</th>\n",
       "      <td>...</td>\n",
       "      <td>...</td>\n",
       "      <td>...</td>\n",
       "      <td>...</td>\n",
       "      <td>...</td>\n",
       "      <td>...</td>\n",
       "      <td>...</td>\n",
       "      <td>...</td>\n",
       "    </tr>\n",
       "    <tr>\n",
       "      <th>2030</th>\n",
       "      <td>2010-07-27</td>\n",
       "      <td>117.60</td>\n",
       "      <td>119.50</td>\n",
       "      <td>112.00</td>\n",
       "      <td>118.80</td>\n",
       "      <td>118.65</td>\n",
       "      <td>586100</td>\n",
       "      <td>694.98</td>\n",
       "    </tr>\n",
       "    <tr>\n",
       "      <th>2031</th>\n",
       "      <td>2010-07-26</td>\n",
       "      <td>120.10</td>\n",
       "      <td>121.00</td>\n",
       "      <td>117.10</td>\n",
       "      <td>117.10</td>\n",
       "      <td>117.60</td>\n",
       "      <td>658440</td>\n",
       "      <td>780.01</td>\n",
       "    </tr>\n",
       "    <tr>\n",
       "      <th>2032</th>\n",
       "      <td>2010-07-23</td>\n",
       "      <td>121.80</td>\n",
       "      <td>121.95</td>\n",
       "      <td>120.25</td>\n",
       "      <td>120.35</td>\n",
       "      <td>120.65</td>\n",
       "      <td>281312</td>\n",
       "      <td>340.31</td>\n",
       "    </tr>\n",
       "    <tr>\n",
       "      <th>2033</th>\n",
       "      <td>2010-07-22</td>\n",
       "      <td>120.30</td>\n",
       "      <td>122.00</td>\n",
       "      <td>120.25</td>\n",
       "      <td>120.75</td>\n",
       "      <td>120.90</td>\n",
       "      <td>293312</td>\n",
       "      <td>355.17</td>\n",
       "    </tr>\n",
       "    <tr>\n",
       "      <th>2034</th>\n",
       "      <td>2010-07-21</td>\n",
       "      <td>122.10</td>\n",
       "      <td>123.00</td>\n",
       "      <td>121.05</td>\n",
       "      <td>121.10</td>\n",
       "      <td>121.55</td>\n",
       "      <td>658666</td>\n",
       "      <td>803.56</td>\n",
       "    </tr>\n",
       "  </tbody>\n",
       "</table>\n",
       "<p>2035 rows × 8 columns</p>\n",
       "</div>"
      ],
      "text/plain": [
       "            Date    Open    High     Low    Last   Close  \\\n",
       "0     2018-09-28  234.05  235.95  230.20  233.50  233.75   \n",
       "1     2018-09-27  234.55  236.80  231.10  233.80  233.25   \n",
       "2     2018-09-26  240.00  240.00  232.50  235.00  234.25   \n",
       "3     2018-09-25  233.30  236.75  232.00  236.25  236.10   \n",
       "4     2018-09-24  233.55  239.20  230.75  234.00  233.30   \n",
       "...          ...     ...     ...     ...     ...     ...   \n",
       "2030  2010-07-27  117.60  119.50  112.00  118.80  118.65   \n",
       "2031  2010-07-26  120.10  121.00  117.10  117.10  117.60   \n",
       "2032  2010-07-23  121.80  121.95  120.25  120.35  120.65   \n",
       "2033  2010-07-22  120.30  122.00  120.25  120.75  120.90   \n",
       "2034  2010-07-21  122.10  123.00  121.05  121.10  121.55   \n",
       "\n",
       "      Total Trade Quantity  Turnover (Lacs)  \n",
       "0                  3069914          7162.35  \n",
       "1                  5082859         11859.95  \n",
       "2                  2240909          5248.60  \n",
       "3                  2349368          5503.90  \n",
       "4                  3423509          7999.55  \n",
       "...                    ...              ...  \n",
       "2030                586100           694.98  \n",
       "2031                658440           780.01  \n",
       "2032                281312           340.31  \n",
       "2033                293312           355.17  \n",
       "2034                658666           803.56  \n",
       "\n",
       "[2035 rows x 8 columns]"
      ]
     },
     "execution_count": 3,
     "metadata": {},
     "output_type": "execute_result"
    }
   ],
   "source": [
    "data"
   ]
  },
  {
   "cell_type": "code",
   "execution_count": 4,
   "id": "eb167dd1",
   "metadata": {},
   "outputs": [],
   "source": [
    "data=data.loc[::-1]"
   ]
  },
  {
   "cell_type": "code",
   "execution_count": 5,
   "id": "6af0b8bb",
   "metadata": {},
   "outputs": [
    {
     "data": {
      "text/plain": [
       "Date                    0\n",
       "Open                    0\n",
       "High                    0\n",
       "Low                     0\n",
       "Last                    0\n",
       "Close                   0\n",
       "Total Trade Quantity    0\n",
       "Turnover (Lacs)         0\n",
       "dtype: int64"
      ]
     },
     "execution_count": 5,
     "metadata": {},
     "output_type": "execute_result"
    }
   ],
   "source": [
    "data.isna().sum()"
   ]
  },
  {
   "cell_type": "code",
   "execution_count": 6,
   "id": "2b8c7b09",
   "metadata": {},
   "outputs": [],
   "source": [
    "data1=data.reset_index()['Open']"
   ]
  },
  {
   "cell_type": "code",
   "execution_count": 7,
   "id": "39c416ea",
   "metadata": {},
   "outputs": [
    {
     "data": {
      "text/plain": [
       "0       122.10\n",
       "1       120.30\n",
       "2       121.80\n",
       "3       120.10\n",
       "4       117.60\n",
       "         ...  \n",
       "2030    233.55\n",
       "2031    233.30\n",
       "2032    240.00\n",
       "2033    234.55\n",
       "2034    234.05\n",
       "Name: Open, Length: 2035, dtype: float64"
      ]
     },
     "execution_count": 7,
     "metadata": {},
     "output_type": "execute_result"
    }
   ],
   "source": [
    "data1"
   ]
  },
  {
   "cell_type": "code",
   "execution_count": 8,
   "id": "b78ea9d2",
   "metadata": {},
   "outputs": [],
   "source": [
    "import matplotlib.pyplot as plt"
   ]
  },
  {
   "cell_type": "code",
   "execution_count": 9,
   "id": "e04efe0e",
   "metadata": {},
   "outputs": [
    {
     "data": {
      "image/png": "[encoded data removed]",
      "text/plain": [
       "<Figure size 432x288 with 1 Axes>"
      ]
     },
     "metadata": {
      "needs_background": "light"
     },
     "output_type": "display_data"
    }
   ],
   "source": [
    "plt.plot(data1)\n",
    "plt.show()"
   ]
  },
  {
   "cell_type": "code",
   "execution_count": 10,
   "id": "239e7f3b",
   "metadata": {},
   "outputs": [],
   "source": [
    "import numpy as np\n",
    "from sklearn.preprocessing import MinMaxScaler\n",
    "scaler = MinMaxScaler(feature_range=(0,1))\n",
    "data1=scaler.fit_transform(np.array(data1).reshape(-1,1))"
   ]
  },
  {
   "cell_type": "code",
   "execution_count": 11,
   "id": "2a9253e0",
   "metadata": {},
   "outputs": [
    {
     "data": {
      "text/plain": [
       "array([[0.16626115],\n",
       "       [0.15896188],\n",
       "       [0.16504461],\n",
       "       ...,\n",
       "       [0.64436334],\n",
       "       [0.62226277],\n",
       "       [0.6202352 ]])"
      ]
     },
     "execution_count": 11,
     "metadata": {},
     "output_type": "execute_result"
    }
   ],
   "source": [
    "data1"
   ]
  },
  {
   "cell_type": "code",
   "execution_count": 12,
   "id": "23fe503e",
   "metadata": {},
   "outputs": [
    {
     "data": {
      "text/plain": [
       "(2035, 1)"
      ]
     },
     "execution_count": 12,
     "metadata": {},
     "output_type": "execute_result"
    }
   ],
   "source": [
    "data1.shape"
   ]
  },
  {
   "cell_type": "code",
   "execution_count": 13,
   "id": "66a3710e",
   "metadata": {},
   "outputs": [],
   "source": [
    "training_size=int(len(data1)*0.65)\n",
    "test_size=len(data1)-training_size\n",
    "train_data=data1[0:training_size,:]\n",
    "test_data=data1[training_size:len(data1),:1]"
   ]
  },
  {
   "cell_type": "code",
   "execution_count": 14,
   "id": "0d431007",
   "metadata": {},
   "outputs": [],
   "source": [
    "def create_dataset(dataset,time_step=1):\n",
    "    dataX,dataY=[],[]\n",
    "    for i in range(len(dataset)-time_step-1):\n",
    "        dataX.append(dataset[i:i+time_step,0])\n",
    "        dataY.append(dataset[i+time_step,0])\n",
    "    return np.array(dataX),np.array(dataY)    "
   ]
  },
  {
   "cell_type": "code",
   "execution_count": 15,
   "id": "e4965c67",
   "metadata": {},
   "outputs": [],
   "source": [
    "time_step=100\n",
    "x_train,y_train=create_dataset(train_data,time_step)\n",
    "x_test,y_test=create_dataset(test_data,time_step)"
   ]
  },
  {
   "cell_type": "code",
   "execution_count": 16,
   "id": "b982f67a",
   "metadata": {},
   "outputs": [],
   "source": [
    "x_train =x_train.reshape(x_train.shape[0],x_train.shape[1] , 1)\n",
    "x_test = x_test.reshape(x_test.shape[0],x_test.shape[1] , 1)"
   ]
  },
  {
   "cell_type": "code",
   "execution_count": 17,
   "id": "cdc0a26c",
   "metadata": {},
   "outputs": [
    {
     "name": "stdout",
     "output_type": "stream",
     "text": [
      "(1221, 100, 1) (612, 100, 1)\n"
     ]
    }
   ],
   "source": [
    "print(x_train.shape,x_test.shape)"
   ]
  },
  {
   "cell_type": "code",
   "execution_count": null,
   "id": "c300930d",
   "metadata": {},
   "outputs": [],
   "source": []
  },
  {
   "cell_type": "code",
   "execution_count": 18,
   "id": "599ffcb9",
   "metadata": {},
   "outputs": [],
   "source": [
    "from tensorflow.keras.models import Sequential\n",
    "from tensorflow.keras.layers import Dense,LSTM"
   ]
  },
  {
   "cell_type": "code",
   "execution_count": 19,
   "id": "d090f666",
   "metadata": {},
   "outputs": [],
   "source": [
    "model=Sequential()\n",
    "model.add(LSTM(50,return_sequences=True,input_shape=(100,1)))\n",
    "model.add(LSTM(50,return_sequences=True))\n",
    "model.add(LSTM(50))\n",
    "model.add(Dense(1))\n",
    "model.compile(loss='mean_squared_error',optimizer='adam')"
   ]
  },
  {
   "cell_type": "code",
   "execution_count": 20,
   "id": "d5b07748",
   "metadata": {},
   "outputs": [
    {
     "name": "stdout",
     "output_type": "stream",
     "text": [
      "Model: \"sequential\"\n",
      "_________________________________________________________________\n",
      " Layer (type)                Output Shape              Param #   \n",
      "=================================================================\n",
      " lstm (LSTM)                 (None, 100, 50)           10400     \n",
      "                                                                 \n",
      " lstm_1 (LSTM)               (None, 100, 50)           20200     \n",
      "                                                                 \n",
      " lstm_2 (LSTM)               (None, 50)                20200     \n",
      "                                                                 \n",
      " dense (Dense)               (None, 1)                 51        \n",
      "                                                                 \n",
      "=================================================================\n",
      "Total params: 50,851\n",
      "Trainable params: 50,851\n",
      "Non-trainable params: 0\n",
      "_________________________________________________________________\n"
     ]
    }
   ],
   "source": [
    "model.summary()"
   ]
  },
  {
   "cell_type": "code",
   "execution_count": 21,
   "id": "092e840b",
   "metadata": {},
   "outputs": [
    {
     "name": "stdout",
     "output_type": "stream",
     "text": [
      "Epoch 1/100\n",
      "20/20 [==============================] - 19s 455ms/step - loss: 0.0130 - val_loss: 0.0302\n",
      "Epoch 2/100\n",
      "20/20 [==============================] - 7s 334ms/step - loss: 0.0019 - val_loss: 0.0036\n",
      "Epoch 3/100\n",
      "20/20 [==============================] - 7s 350ms/step - loss: 0.0010 - val_loss: 0.0040\n",
      "Epoch 4/100\n",
      "20/20 [==============================] - 6s 327ms/step - loss: 8.4623e-04 - val_loss: 0.0036\n",
      "Epoch 5/100\n",
      "20/20 [==============================] - 6s 316ms/step - loss: 8.0847e-04 - val_loss: 0.0054\n",
      "Epoch 6/100\n",
      "20/20 [==============================] - 6s 316ms/step - loss: 8.1925e-04 - val_loss: 0.0037\n",
      "Epoch 7/100\n",
      "20/20 [==============================] - 6s 313ms/step - loss: 7.4742e-04 - val_loss: 0.0033\n",
      "Epoch 8/100\n",
      "20/20 [==============================] - 6s 316ms/step - loss: 7.4450e-04 - val_loss: 0.0031\n",
      "Epoch 9/100\n",
      "20/20 [==============================] - 6s 313ms/step - loss: 6.9838e-04 - val_loss: 0.0032\n",
      "Epoch 10/100\n",
      "20/20 [==============================] - 6s 279ms/step - loss: 6.5901e-04 - val_loss: 0.0052\n",
      "Epoch 11/100\n",
      "20/20 [==============================] - 5s 249ms/step - loss: 6.5252e-04 - val_loss: 0.0087\n",
      "Epoch 12/100\n",
      "20/20 [==============================] - 6s 316ms/step - loss: 7.8713e-04 - val_loss: 0.0057\n",
      "Epoch 13/100\n",
      "20/20 [==============================] - 6s 316ms/step - loss: 6.4592e-04 - val_loss: 0.0053\n",
      "Epoch 14/100\n",
      "20/20 [==============================] - 6s 316ms/step - loss: 5.9716e-04 - val_loss: 0.0035\n",
      "Epoch 15/100\n",
      "20/20 [==============================] - 6s 314ms/step - loss: 5.7988e-04 - val_loss: 0.0056\n",
      "Epoch 16/100\n",
      "20/20 [==============================] - 6s 318ms/step - loss: 6.2446e-04 - val_loss: 0.0042\n",
      "Epoch 17/100\n",
      "20/20 [==============================] - 6s 320ms/step - loss: 5.9003e-04 - val_loss: 0.0034\n",
      "Epoch 18/100\n",
      "20/20 [==============================] - 6s 322ms/step - loss: 5.9400e-04 - val_loss: 0.0039\n",
      "Epoch 19/100\n",
      "20/20 [==============================] - 6s 318ms/step - loss: 5.5657e-04 - val_loss: 0.0051\n",
      "Epoch 20/100\n",
      "20/20 [==============================] - 6s 321ms/step - loss: 5.1165e-04 - val_loss: 0.0049\n",
      "Epoch 21/100\n",
      "20/20 [==============================] - 6s 318ms/step - loss: 5.0373e-04 - val_loss: 0.0056\n",
      "Epoch 22/100\n",
      "20/20 [==============================] - 6s 317ms/step - loss: 5.0703e-04 - val_loss: 0.0049\n",
      "Epoch 23/100\n",
      "20/20 [==============================] - 6s 315ms/step - loss: 4.8592e-04 - val_loss: 0.0044\n",
      "Epoch 24/100\n",
      "20/20 [==============================] - 6s 317ms/step - loss: 4.7980e-04 - val_loss: 0.0029\n",
      "Epoch 25/100\n",
      "20/20 [==============================] - 6s 316ms/step - loss: 4.8598e-04 - val_loss: 0.0031\n",
      "Epoch 26/100\n",
      "20/20 [==============================] - 6s 315ms/step - loss: 4.5723e-04 - val_loss: 0.0044\n",
      "Epoch 27/100\n",
      "20/20 [==============================] - 6s 315ms/step - loss: 4.3531e-04 - val_loss: 0.0025\n",
      "Epoch 28/100\n",
      "20/20 [==============================] - 6s 313ms/step - loss: 4.7254e-04 - val_loss: 0.0042\n",
      "Epoch 29/100\n",
      "20/20 [==============================] - 6s 316ms/step - loss: 4.4260e-04 - val_loss: 0.0044\n",
      "Epoch 30/100\n",
      "20/20 [==============================] - 6s 314ms/step - loss: 4.4942e-04 - val_loss: 0.0027\n",
      "Epoch 31/100\n",
      "20/20 [==============================] - 6s 317ms/step - loss: 4.2428e-04 - val_loss: 0.0028\n",
      "Epoch 32/100\n",
      "20/20 [==============================] - 6s 316ms/step - loss: 3.9301e-04 - val_loss: 0.0035\n",
      "Epoch 33/100\n",
      "20/20 [==============================] - 6s 316ms/step - loss: 3.9093e-04 - val_loss: 0.0060\n",
      "Epoch 34/100\n",
      "20/20 [==============================] - 6s 314ms/step - loss: 4.0992e-04 - val_loss: 0.0020\n",
      "Epoch 35/100\n",
      "20/20 [==============================] - 6s 315ms/step - loss: 3.8271e-04 - val_loss: 0.0038\n",
      "Epoch 36/100\n",
      "20/20 [==============================] - 6s 317ms/step - loss: 3.6042e-04 - val_loss: 0.0021\n",
      "Epoch 37/100\n",
      "20/20 [==============================] - 6s 317ms/step - loss: 3.4303e-04 - val_loss: 0.0020\n",
      "Epoch 38/100\n",
      "20/20 [==============================] - 6s 320ms/step - loss: 3.3745e-04 - val_loss: 0.0024\n",
      "Epoch 39/100\n",
      "20/20 [==============================] - 6s 269ms/step - loss: 3.4361e-04 - val_loss: 0.0034\n",
      "Epoch 40/100\n",
      "20/20 [==============================] - 6s 305ms/step - loss: 3.0855e-04 - val_loss: 0.0016\n",
      "Epoch 41/100\n",
      "20/20 [==============================] - 6s 300ms/step - loss: 3.0949e-04 - val_loss: 0.0018\n",
      "Epoch 42/100\n",
      "20/20 [==============================] - 6s 313ms/step - loss: 3.0067e-04 - val_loss: 0.0028\n",
      "Epoch 43/100\n",
      "20/20 [==============================] - 6s 312ms/step - loss: 2.9820e-04 - val_loss: 0.0023\n",
      "Epoch 44/100\n",
      "20/20 [==============================] - 6s 314ms/step - loss: 2.7231e-04 - val_loss: 0.0027\n",
      "Epoch 45/100\n",
      "20/20 [==============================] - 6s 314ms/step - loss: 2.6625e-04 - val_loss: 0.0031\n",
      "Epoch 46/100\n",
      "20/20 [==============================] - 6s 313ms/step - loss: 2.9075e-04 - val_loss: 0.0020\n",
      "Epoch 47/100\n",
      "20/20 [==============================] - 6s 316ms/step - loss: 3.0640e-04 - val_loss: 0.0011\n",
      "Epoch 48/100\n",
      "20/20 [==============================] - 6s 280ms/step - loss: 2.4891e-04 - val_loss: 0.0015\n",
      "Epoch 49/100\n",
      "20/20 [==============================] - 5s 232ms/step - loss: 2.5484e-04 - val_loss: 0.0022\n",
      "Epoch 50/100\n",
      "20/20 [==============================] - 5s 249ms/step - loss: 2.5961e-04 - val_loss: 0.0015\n",
      "Epoch 51/100\n",
      "20/20 [==============================] - 5s 249ms/step - loss: 2.4095e-04 - val_loss: 5.8399e-04\n",
      "Epoch 52/100\n",
      "20/20 [==============================] - 4s 223ms/step - loss: 2.3476e-04 - val_loss: 0.0013\n",
      "Epoch 53/100\n",
      "20/20 [==============================] - 5s 233ms/step - loss: 2.2907e-04 - val_loss: 0.0021\n",
      "Epoch 54/100\n",
      "20/20 [==============================] - 4s 224ms/step - loss: 2.4983e-04 - val_loss: 0.0023\n",
      "Epoch 55/100\n",
      "20/20 [==============================] - 4s 225ms/step - loss: 2.5060e-04 - val_loss: 0.0011\n",
      "Epoch 56/100\n",
      "20/20 [==============================] - 4s 223ms/step - loss: 2.2328e-04 - val_loss: 0.0015\n",
      "Epoch 57/100\n",
      "20/20 [==============================] - 4s 214ms/step - loss: 2.1424e-04 - val_loss: 8.2579e-04\n",
      "Epoch 58/100\n",
      "20/20 [==============================] - 4s 207ms/step - loss: 2.1179e-04 - val_loss: 0.0012\n",
      "Epoch 59/100\n",
      "20/20 [==============================] - 5s 233ms/step - loss: 2.0809e-04 - val_loss: 0.0010\n",
      "Epoch 60/100\n",
      "20/20 [==============================] - 5s 231ms/step - loss: 2.0101e-04 - val_loss: 0.0027\n",
      "Epoch 61/100\n",
      "20/20 [==============================] - 5s 231ms/step - loss: 2.3870e-04 - val_loss: 0.0011\n",
      "Epoch 62/100\n",
      "20/20 [==============================] - 4s 211ms/step - loss: 1.9314e-04 - val_loss: 0.0015\n",
      "Epoch 63/100\n",
      "20/20 [==============================] - 5s 242ms/step - loss: 1.9066e-04 - val_loss: 0.0015\n",
      "Epoch 64/100\n",
      "20/20 [==============================] - 5s 227ms/step - loss: 1.9194e-04 - val_loss: 0.0015\n",
      "Epoch 65/100\n",
      "20/20 [==============================] - 4s 200ms/step - loss: 1.8230e-04 - val_loss: 0.0020\n",
      "Epoch 66/100\n",
      "20/20 [==============================] - 5s 230ms/step - loss: 1.8902e-04 - val_loss: 0.0020\n",
      "Epoch 67/100\n",
      "20/20 [==============================] - 5s 234ms/step - loss: 2.1635e-04 - val_loss: 0.0024\n",
      "Epoch 68/100\n",
      "20/20 [==============================] - 4s 214ms/step - loss: 2.0312e-04 - val_loss: 7.8356e-04\n",
      "Epoch 69/100\n",
      "20/20 [==============================] - 4s 212ms/step - loss: 1.8047e-04 - val_loss: 6.9258e-04\n",
      "Epoch 70/100\n",
      "20/20 [==============================] - 5s 230ms/step - loss: 1.9019e-04 - val_loss: 0.0013\n",
      "Epoch 71/100\n",
      "20/20 [==============================] - 5s 258ms/step - loss: 1.9738e-04 - val_loss: 0.0021\n",
      "Epoch 72/100\n",
      "20/20 [==============================] - 5s 238ms/step - loss: 1.9376e-04 - val_loss: 0.0025\n",
      "Epoch 73/100\n",
      "20/20 [==============================] - 5s 230ms/step - loss: 1.8817e-04 - val_loss: 0.0012\n",
      "Epoch 74/100\n",
      "20/20 [==============================] - 4s 211ms/step - loss: 1.7260e-04 - val_loss: 6.8643e-04\n",
      "Epoch 75/100\n",
      "20/20 [==============================] - 4s 226ms/step - loss: 2.0519e-04 - val_loss: 0.0012\n",
      "Epoch 76/100\n",
      "20/20 [==============================] - 5s 228ms/step - loss: 1.8557e-04 - val_loss: 0.0015\n",
      "Epoch 77/100\n",
      "20/20 [==============================] - 4s 206ms/step - loss: 2.2282e-04 - val_loss: 7.2759e-04\n",
      "Epoch 78/100\n",
      "20/20 [==============================] - 4s 204ms/step - loss: 1.8177e-04 - val_loss: 5.4580e-04\n",
      "Epoch 79/100\n",
      "20/20 [==============================] - 6s 290ms/step - loss: 1.8123e-04 - val_loss: 0.0022\n",
      "Epoch 80/100\n",
      "20/20 [==============================] - 6s 318ms/step - loss: 2.0255e-04 - val_loss: 0.0013\n",
      "Epoch 81/100\n",
      "20/20 [==============================] - 6s 320ms/step - loss: 1.6236e-04 - val_loss: 9.5123e-04\n",
      "Epoch 82/100\n",
      "20/20 [==============================] - 6s 315ms/step - loss: 1.7483e-04 - val_loss: 4.6200e-04\n",
      "Epoch 83/100\n",
      "20/20 [==============================] - 6s 314ms/step - loss: 1.6748e-04 - val_loss: 7.7372e-04\n",
      "Epoch 84/100\n",
      "20/20 [==============================] - 6s 317ms/step - loss: 1.6799e-04 - val_loss: 0.0013\n",
      "Epoch 85/100\n",
      "20/20 [==============================] - 6s 316ms/step - loss: 1.7956e-04 - val_loss: 5.1805e-04\n",
      "Epoch 86/100\n",
      "20/20 [==============================] - 6s 317ms/step - loss: 1.7172e-04 - val_loss: 8.3768e-04\n",
      "Epoch 87/100\n",
      "20/20 [==============================] - 6s 317ms/step - loss: 1.5859e-04 - val_loss: 9.0568e-04\n",
      "Epoch 88/100\n",
      "20/20 [==============================] - 6s 317ms/step - loss: 1.5202e-04 - val_loss: 4.9818e-04\n",
      "Epoch 89/100\n",
      "20/20 [==============================] - 6s 313ms/step - loss: 1.5726e-04 - val_loss: 0.0010\n",
      "Epoch 90/100\n",
      "20/20 [==============================] - 6s 318ms/step - loss: 1.5449e-04 - val_loss: 6.8474e-04\n",
      "Epoch 91/100\n",
      "20/20 [==============================] - 6s 317ms/step - loss: 1.6336e-04 - val_loss: 9.6678e-04\n",
      "Epoch 92/100\n",
      "20/20 [==============================] - 6s 316ms/step - loss: 1.6471e-04 - val_loss: 9.3797e-04\n",
      "Epoch 93/100\n",
      "20/20 [==============================] - 6s 317ms/step - loss: 1.5977e-04 - val_loss: 5.1242e-04\n",
      "Epoch 94/100\n",
      "20/20 [==============================] - 6s 317ms/step - loss: 1.5516e-04 - val_loss: 7.7638e-04\n",
      "Epoch 95/100\n",
      "20/20 [==============================] - 6s 318ms/step - loss: 1.7100e-04 - val_loss: 6.6099e-04\n",
      "Epoch 96/100\n",
      "20/20 [==============================] - 6s 317ms/step - loss: 2.2816e-04 - val_loss: 0.0013\n",
      "Epoch 97/100\n",
      "20/20 [==============================] - 6s 318ms/step - loss: 1.5959e-04 - val_loss: 5.3002e-04\n",
      "Epoch 98/100\n",
      "20/20 [==============================] - 6s 318ms/step - loss: 1.6788e-04 - val_loss: 9.4600e-04\n",
      "Epoch 99/100\n",
      "20/20 [==============================] - 6s 315ms/step - loss: 1.4898e-04 - val_loss: 6.6804e-04\n",
      "Epoch 100/100\n",
      "20/20 [==============================] - 6s 317ms/step - loss: 1.6147e-04 - val_loss: 8.9532e-04\n"
     ]
    },
    {
     "data": {
      "text/plain": [
       "<keras.callbacks.History at 0x1fff8167490>"
      ]
     },
     "execution_count": 21,
     "metadata": {},
     "output_type": "execute_result"
    }
   ],
   "source": [
    "model.fit(x_train,y_train,validation_data = (x_test,y_test),epochs=100,batch_size=64,verbose=1)"
   ]
  },
  {
   "cell_type": "code",
   "execution_count": 22,
   "id": "79c67a5c",
   "metadata": {},
   "outputs": [
    {
     "name": "stdout",
     "output_type": "stream",
     "text": [
      "39/39 [==============================] - 5s 63ms/step\n",
      "20/20 [==============================] - 1s 63ms/step\n"
     ]
    }
   ],
   "source": [
    "train_predict=model.predict(x_train)\n",
    "test_predict=model.predict(x_test)\n",
    "train_predict=scaler.inverse_transform(train_predict)\n",
    "test_predict=scaler.inverse_transform(test_predict)"
   ]
  },
  {
   "cell_type": "code",
   "execution_count": 23,
   "id": "0a7579e1",
   "metadata": {},
   "outputs": [
    {
     "data": {
      "text/plain": [
       "134.80274300542487"
      ]
     },
     "execution_count": 23,
     "metadata": {},
     "output_type": "execute_result"
    }
   ],
   "source": [
    "import math\n",
    "from sklearn.metrics import mean_squared_error\n",
    "math.sqrt(mean_squared_error(y_train,train_predict))"
   ]
  },
  {
   "cell_type": "code",
   "execution_count": 24,
   "id": "151c9699",
   "metadata": {},
   "outputs": [
    {
     "data": {
      "text/plain": [
       "197.3953607581797"
      ]
     },
     "execution_count": 24,
     "metadata": {},
     "output_type": "execute_result"
    }
   ],
   "source": [
    "math.sqrt(mean_squared_error(y_test,test_predict))"
   ]
  },
  {
   "cell_type": "code",
   "execution_count": 30,
   "id": "af6a8ac3",
   "metadata": {},
   "outputs": [
    {
     "data": {
      "image/png": "[encoded data removed]",
      "text/plain": [
       "<Figure size 432x288 with 1 Axes>"
      ]
     },
     "metadata": {
      "needs_background": "light"
     },
     "output_type": "display_data"
    },
    {
     "name": "stdout",
     "output_type": "stream",
     "text": [
      "Green : Predicted data\n",
      "Blue  : Complete data\n",
      "Orange: Train data\n"
     ]
    }
   ],
   "source": [
    "look_back = 100\n",
    "trainPredictPlot = np.empty_like(data1)\n",
    "trainPredictPlot[:,:] = np.nan\n",
    "trainPredictPlot[look_back : len(train_predict) + look_back,:] = train_predict\n",
    "\n",
    "#shift test prediction for plotting\n",
    "testPredictPlot = np.empty_like(data1)\n",
    "testPredictPlot[:,:] = np.nan\n",
    "testPredictPlot[len(train_predict) +  (look_back * 2)+1:len(data1) - 1, :] = test_predict\n",
    "\n",
    "#plot baseline and predictions\n",
    "plt.plot(scaler.inverse_transform(data1))\n",
    "plt.plot(trainPredictPlot)\n",
    "plt.plot(testPredictPlot)\n",
    "plt.show()\n",
    "\n",
    "print(\"Green : Predicted data\")\n",
    "print(\"Blue  : Complete data\")\n",
    "print(\"Orange: Train data\")"
   ]
  },
  {
   "cell_type": "code",
   "execution_count": 43,
   "id": "0642ede0",
   "metadata": {},
   "outputs": [
    {
     "data": {
      "text/plain": [
       "(713, (612, 100, 1))"
      ]
     },
     "execution_count": 43,
     "metadata": {},
     "output_type": "execute_result"
    }
   ],
   "source": [
    "len(test_data),x_test.shape"
   ]
  },
  {
   "cell_type": "code",
   "execution_count": 44,
   "id": "85d54179",
   "metadata": {},
   "outputs": [
    {
     "data": {
      "text/plain": [
       "(1, 100)"
      ]
     },
     "execution_count": 44,
     "metadata": {},
     "output_type": "execute_result"
    }
   ],
   "source": [
    "x_input = test_data[613:].reshape(1,-1)\n",
    "x_input.shape"
   ]
  },
  {
   "cell_type": "code",
   "execution_count": 45,
   "id": "d53feb86",
   "metadata": {},
   "outputs": [
    {
     "name": "stdout",
     "output_type": "stream",
     "text": [
      "[0.6035332]\n",
      "101\n",
      "1 day input [0.84549878 0.85908354 0.824412   0.80656934 0.71107056 0.64436334\n",
      " 0.65855637 0.67802109 0.66098946 0.66058394 0.67072182 0.68896999\n",
      " 0.69383617 0.70397405 0.71492295 0.70113544 0.75385239 0.7648013\n",
      " 0.74574209 0.70721817 0.736618   0.75344688 0.7404704  0.74817518\n",
      " 0.736618   0.75385239 0.76520681 0.80312247 0.77230333 0.78487429\n",
      " 0.7404704  0.7175588  0.71695053 0.72587186 0.74493106 0.74614761\n",
      " 0.73763179 0.73641525 0.77007299 0.74371452 0.81062449 0.79622871\n",
      " 0.76520681 0.75892133 0.78994323 0.78548256 0.7676399  0.74574209\n",
      " 0.71695053 0.65064882 0.6784266  0.6431468  0.60888078 0.63990268\n",
      " 0.66058394 0.67883212 0.62773723 0.64841849 0.6593674  0.65815085\n",
      " 0.67964315 0.61394972 0.62814274 0.62469586 0.64841849 0.63321168\n",
      " 0.63077859 0.63341444 0.61597729 0.62408759 0.6283455  0.64760746\n",
      " 0.66058394 0.67234388 0.64557989 0.62206002 0.61111111 0.63219789\n",
      " 0.61942417 0.62550689 0.63219789 0.62814274 0.63706407 0.57137064\n",
      " 0.57948094 0.56731549 0.57339822 0.57339822 0.54845904 0.57725061\n",
      " 0.61658556 0.63584753 0.62793998 0.62408759 0.61820762 0.61719384\n",
      " 0.64436334 0.62226277 0.6202352  0.60353321]\n",
      "1 day output [[0.58101994]]\n",
      "2 day input [0.85908354 0.824412   0.80656934 0.71107056 0.64436334 0.65855637\n",
      " 0.67802109 0.66098946 0.66058394 0.67072182 0.68896999 0.69383617\n",
      " 0.70397405 0.71492295 0.70113544 0.75385239 0.7648013  0.74574209\n",
      " 0.70721817 0.736618   0.75344688 0.7404704  0.74817518 0.736618\n",
      " 0.75385239 0.76520681 0.80312247 0.77230333 0.78487429 0.7404704\n",
      " 0.7175588  0.71695053 0.72587186 0.74493106 0.74614761 0.73763179\n",
      " 0.73641525 0.77007299 0.74371452 0.81062449 0.79622871 0.76520681\n",
      " 0.75892133 0.78994323 0.78548256 0.7676399  0.74574209 0.71695053\n",
      " 0.65064882 0.6784266  0.6431468  0.60888078 0.63990268 0.66058394\n",
      " 0.67883212 0.62773723 0.64841849 0.6593674  0.65815085 0.67964315\n",
      " 0.61394972 0.62814274 0.62469586 0.64841849 0.63321168 0.63077859\n",
      " 0.63341444 0.61597729 0.62408759 0.6283455  0.64760746 0.66058394\n",
      " 0.67234388 0.64557989 0.62206002 0.61111111 0.63219789 0.61942417\n",
      " 0.62550689 0.63219789 0.62814274 0.63706407 0.57137064 0.57948094\n",
      " 0.56731549 0.57339822 0.57339822 0.54845904 0.57725061 0.61658556\n",
      " 0.63584753 0.62793998 0.62408759 0.61820762 0.61719384 0.64436334\n",
      " 0.62226277 0.6202352  0.60353321 0.58101994]\n",
      "2 day output [[0.55871457]]\n",
      "3 day input [0.824412   0.80656934 0.71107056 0.64436334 0.65855637 0.67802109\n",
      " 0.66098946 0.66058394 0.67072182 0.68896999 0.69383617 0.70397405\n",
      " 0.71492295 0.70113544 0.75385239 0.7648013  0.74574209 0.70721817\n",
      " 0.736618   0.75344688 0.7404704  0.74817518 0.736618   0.75385239\n",
      " 0.76520681 0.80312247 0.77230333 0.78487429 0.7404704  0.7175588\n",
      " 0.71695053 0.72587186 0.74493106 0.74614761 0.73763179 0.73641525\n",
      " 0.77007299 0.74371452 0.81062449 0.79622871 0.76520681 0.75892133\n",
      " 0.78994323 0.78548256 0.7676399  0.74574209 0.71695053 0.65064882\n",
      " 0.6784266  0.6431468  0.60888078 0.63990268 0.66058394 0.67883212\n",
      " 0.62773723 0.64841849 0.6593674  0.65815085 0.67964315 0.61394972\n",
      " 0.62814274 0.62469586 0.64841849 0.63321168 0.63077859 0.63341444\n",
      " 0.61597729 0.62408759 0.6283455  0.64760746 0.66058394 0.67234388\n",
      " 0.64557989 0.62206002 0.61111111 0.63219789 0.61942417 0.62550689\n",
      " 0.63219789 0.62814274 0.63706407 0.57137064 0.57948094 0.56731549\n",
      " 0.57339822 0.57339822 0.54845904 0.57725061 0.61658556 0.63584753\n",
      " 0.62793998 0.62408759 0.61820762 0.61719384 0.64436334 0.62226277\n",
      " 0.6202352  0.60353321 0.58101994 0.55871457]\n",
      "3 day output [[0.5391493]]\n",
      "4 day input [0.80656934 0.71107056 0.64436334 0.65855637 0.67802109 0.66098946\n",
      " 0.66058394 0.67072182 0.68896999 0.69383617 0.70397405 0.71492295\n",
      " 0.70113544 0.75385239 0.7648013  0.74574209 0.70721817 0.736618\n",
      " 0.75344688 0.7404704  0.74817518 0.736618   0.75385239 0.76520681\n",
      " 0.80312247 0.77230333 0.78487429 0.7404704  0.7175588  0.71695053\n",
      " 0.72587186 0.74493106 0.74614761 0.73763179 0.73641525 0.77007299\n",
      " 0.74371452 0.81062449 0.79622871 0.76520681 0.75892133 0.78994323\n",
      " 0.78548256 0.7676399  0.74574209 0.71695053 0.65064882 0.6784266\n",
      " 0.6431468  0.60888078 0.63990268 0.66058394 0.67883212 0.62773723\n",
      " 0.64841849 0.6593674  0.65815085 0.67964315 0.61394972 0.62814274\n",
      " 0.62469586 0.64841849 0.63321168 0.63077859 0.63341444 0.61597729\n",
      " 0.62408759 0.6283455  0.64760746 0.66058394 0.67234388 0.64557989\n",
      " 0.62206002 0.61111111 0.63219789 0.61942417 0.62550689 0.63219789\n",
      " 0.62814274 0.63706407 0.57137064 0.57948094 0.56731549 0.57339822\n",
      " 0.57339822 0.54845904 0.57725061 0.61658556 0.63584753 0.62793998\n",
      " 0.62408759 0.61820762 0.61719384 0.64436334 0.62226277 0.6202352\n",
      " 0.60353321 0.58101994 0.55871457 0.53914928]\n",
      "4 day output [[0.52209437]]\n",
      "5 day input [0.71107056 0.64436334 0.65855637 0.67802109 0.66098946 0.66058394\n",
      " 0.67072182 0.68896999 0.69383617 0.70397405 0.71492295 0.70113544\n",
      " 0.75385239 0.7648013  0.74574209 0.70721817 0.736618   0.75344688\n",
      " 0.7404704  0.74817518 0.736618   0.75385239 0.76520681 0.80312247\n",
      " 0.77230333 0.78487429 0.7404704  0.7175588  0.71695053 0.72587186\n",
      " 0.74493106 0.74614761 0.73763179 0.73641525 0.77007299 0.74371452\n",
      " 0.81062449 0.79622871 0.76520681 0.75892133 0.78994323 0.78548256\n",
      " 0.7676399  0.74574209 0.71695053 0.65064882 0.6784266  0.6431468\n",
      " 0.60888078 0.63990268 0.66058394 0.67883212 0.62773723 0.64841849\n",
      " 0.6593674  0.65815085 0.67964315 0.61394972 0.62814274 0.62469586\n",
      " 0.64841849 0.63321168 0.63077859 0.63341444 0.61597729 0.62408759\n",
      " 0.6283455  0.64760746 0.66058394 0.67234388 0.64557989 0.62206002\n",
      " 0.61111111 0.63219789 0.61942417 0.62550689 0.63219789 0.62814274\n",
      " 0.63706407 0.57137064 0.57948094 0.56731549 0.57339822 0.57339822\n",
      " 0.54845904 0.57725061 0.61658556 0.63584753 0.62793998 0.62408759\n",
      " 0.61820762 0.61719384 0.64436334 0.62226277 0.6202352  0.60353321\n",
      " 0.58101994 0.55871457 0.53914928 0.52209437]\n",
      "5 day output [[0.50678486]]\n",
      "6 day input [0.64436334 0.65855637 0.67802109 0.66098946 0.66058394 0.67072182\n",
      " 0.68896999 0.69383617 0.70397405 0.71492295 0.70113544 0.75385239\n",
      " 0.7648013  0.74574209 0.70721817 0.736618   0.75344688 0.7404704\n",
      " 0.74817518 0.736618   0.75385239 0.76520681 0.80312247 0.77230333\n",
      " 0.78487429 0.7404704  0.7175588  0.71695053 0.72587186 0.74493106\n",
      " 0.74614761 0.73763179 0.73641525 0.77007299 0.74371452 0.81062449\n",
      " 0.79622871 0.76520681 0.75892133 0.78994323 0.78548256 0.7676399\n",
      " 0.74574209 0.71695053 0.65064882 0.6784266  0.6431468  0.60888078\n",
      " 0.63990268 0.66058394 0.67883212 0.62773723 0.64841849 0.6593674\n",
      " 0.65815085 0.67964315 0.61394972 0.62814274 0.62469586 0.64841849\n",
      " 0.63321168 0.63077859 0.63341444 0.61597729 0.62408759 0.6283455\n",
      " 0.64760746 0.66058394 0.67234388 0.64557989 0.62206002 0.61111111\n",
      " 0.63219789 0.61942417 0.62550689 0.63219789 0.62814274 0.63706407\n",
      " 0.57137064 0.57948094 0.56731549 0.57339822 0.57339822 0.54845904\n",
      " 0.57725061 0.61658556 0.63584753 0.62793998 0.62408759 0.61820762\n",
      " 0.61719384 0.64436334 0.62226277 0.6202352  0.60353321 0.58101994\n",
      " 0.55871457 0.53914928 0.52209437 0.50678486]\n",
      "6 day output [[0.49278235]]\n",
      "7 day input [0.65855637 0.67802109 0.66098946 0.66058394 0.67072182 0.68896999\n",
      " 0.69383617 0.70397405 0.71492295 0.70113544 0.75385239 0.7648013\n",
      " 0.74574209 0.70721817 0.736618   0.75344688 0.7404704  0.74817518\n",
      " 0.736618   0.75385239 0.76520681 0.80312247 0.77230333 0.78487429\n",
      " 0.7404704  0.7175588  0.71695053 0.72587186 0.74493106 0.74614761\n",
      " 0.73763179 0.73641525 0.77007299 0.74371452 0.81062449 0.79622871\n",
      " 0.76520681 0.75892133 0.78994323 0.78548256 0.7676399  0.74574209\n",
      " 0.71695053 0.65064882 0.6784266  0.6431468  0.60888078 0.63990268\n",
      " 0.66058394 0.67883212 0.62773723 0.64841849 0.6593674  0.65815085\n",
      " 0.67964315 0.61394972 0.62814274 0.62469586 0.64841849 0.63321168\n",
      " 0.63077859 0.63341444 0.61597729 0.62408759 0.6283455  0.64760746\n",
      " 0.66058394 0.67234388 0.64557989 0.62206002 0.61111111 0.63219789\n",
      " 0.61942417 0.62550689 0.63219789 0.62814274 0.63706407 0.57137064\n",
      " 0.57948094 0.56731549 0.57339822 0.57339822 0.54845904 0.57725061\n",
      " 0.61658556 0.63584753 0.62793998 0.62408759 0.61820762 0.61719384\n",
      " 0.64436334 0.62226277 0.6202352  0.60353321 0.58101994 0.55871457\n",
      " 0.53914928 0.52209437 0.50678486 0.49278235]\n",
      "7 day output [[0.47993678]]\n",
      "8 day input [0.67802109 0.66098946 0.66058394 0.67072182 0.68896999 0.69383617\n",
      " 0.70397405 0.71492295 0.70113544 0.75385239 0.7648013  0.74574209\n",
      " 0.70721817 0.736618   0.75344688 0.7404704  0.74817518 0.736618\n",
      " 0.75385239 0.76520681 0.80312247 0.77230333 0.78487429 0.7404704\n",
      " 0.7175588  0.71695053 0.72587186 0.74493106 0.74614761 0.73763179\n",
      " 0.73641525 0.77007299 0.74371452 0.81062449 0.79622871 0.76520681\n",
      " 0.75892133 0.78994323 0.78548256 0.7676399  0.74574209 0.71695053\n",
      " 0.65064882 0.6784266  0.6431468  0.60888078 0.63990268 0.66058394\n",
      " 0.67883212 0.62773723 0.64841849 0.6593674  0.65815085 0.67964315\n",
      " 0.61394972 0.62814274 0.62469586 0.64841849 0.63321168 0.63077859\n",
      " 0.63341444 0.61597729 0.62408759 0.6283455  0.64760746 0.66058394\n",
      " 0.67234388 0.64557989 0.62206002 0.61111111 0.63219789 0.61942417\n",
      " 0.62550689 0.63219789 0.62814274 0.63706407 0.57137064 0.57948094\n",
      " 0.56731549 0.57339822 0.57339822 0.54845904 0.57725061 0.61658556\n",
      " 0.63584753 0.62793998 0.62408759 0.61820762 0.61719384 0.64436334\n",
      " 0.62226277 0.6202352  0.60353321 0.58101994 0.55871457 0.53914928\n",
      " 0.52209437 0.50678486 0.49278235 0.47993678]\n"
     ]
    },
    {
     "name": "stdout",
     "output_type": "stream",
     "text": [
      "8 day output [[0.46820864]]\n",
      "9 day input [0.66098946 0.66058394 0.67072182 0.68896999 0.69383617 0.70397405\n",
      " 0.71492295 0.70113544 0.75385239 0.7648013  0.74574209 0.70721817\n",
      " 0.736618   0.75344688 0.7404704  0.74817518 0.736618   0.75385239\n",
      " 0.76520681 0.80312247 0.77230333 0.78487429 0.7404704  0.7175588\n",
      " 0.71695053 0.72587186 0.74493106 0.74614761 0.73763179 0.73641525\n",
      " 0.77007299 0.74371452 0.81062449 0.79622871 0.76520681 0.75892133\n",
      " 0.78994323 0.78548256 0.7676399  0.74574209 0.71695053 0.65064882\n",
      " 0.6784266  0.6431468  0.60888078 0.63990268 0.66058394 0.67883212\n",
      " 0.62773723 0.64841849 0.6593674  0.65815085 0.67964315 0.61394972\n",
      " 0.62814274 0.62469586 0.64841849 0.63321168 0.63077859 0.63341444\n",
      " 0.61597729 0.62408759 0.6283455  0.64760746 0.66058394 0.67234388\n",
      " 0.64557989 0.62206002 0.61111111 0.63219789 0.61942417 0.62550689\n",
      " 0.63219789 0.62814274 0.63706407 0.57137064 0.57948094 0.56731549\n",
      " 0.57339822 0.57339822 0.54845904 0.57725061 0.61658556 0.63584753\n",
      " 0.62793998 0.62408759 0.61820762 0.61719384 0.64436334 0.62226277\n",
      " 0.6202352  0.60353321 0.58101994 0.55871457 0.53914928 0.52209437\n",
      " 0.50678486 0.49278235 0.47993678 0.46820864]\n",
      "9 day output [[0.45757183]]\n",
      "10 day input [0.66058394 0.67072182 0.68896999 0.69383617 0.70397405 0.71492295\n",
      " 0.70113544 0.75385239 0.7648013  0.74574209 0.70721817 0.736618\n",
      " 0.75344688 0.7404704  0.74817518 0.736618   0.75385239 0.76520681\n",
      " 0.80312247 0.77230333 0.78487429 0.7404704  0.7175588  0.71695053\n",
      " 0.72587186 0.74493106 0.74614761 0.73763179 0.73641525 0.77007299\n",
      " 0.74371452 0.81062449 0.79622871 0.76520681 0.75892133 0.78994323\n",
      " 0.78548256 0.7676399  0.74574209 0.71695053 0.65064882 0.6784266\n",
      " 0.6431468  0.60888078 0.63990268 0.66058394 0.67883212 0.62773723\n",
      " 0.64841849 0.6593674  0.65815085 0.67964315 0.61394972 0.62814274\n",
      " 0.62469586 0.64841849 0.63321168 0.63077859 0.63341444 0.61597729\n",
      " 0.62408759 0.6283455  0.64760746 0.66058394 0.67234388 0.64557989\n",
      " 0.62206002 0.61111111 0.63219789 0.61942417 0.62550689 0.63219789\n",
      " 0.62814274 0.63706407 0.57137064 0.57948094 0.56731549 0.57339822\n",
      " 0.57339822 0.54845904 0.57725061 0.61658556 0.63584753 0.62793998\n",
      " 0.62408759 0.61820762 0.61719384 0.64436334 0.62226277 0.6202352\n",
      " 0.60353321 0.58101994 0.55871457 0.53914928 0.52209437 0.50678486\n",
      " 0.49278235 0.47993678 0.46820864 0.45757183]\n",
      "10 day output [[0.447986]]\n",
      "11 day input [0.67072182 0.68896999 0.69383617 0.70397405 0.71492295 0.70113544\n",
      " 0.75385239 0.7648013  0.74574209 0.70721817 0.736618   0.75344688\n",
      " 0.7404704  0.74817518 0.736618   0.75385239 0.76520681 0.80312247\n",
      " 0.77230333 0.78487429 0.7404704  0.7175588  0.71695053 0.72587186\n",
      " 0.74493106 0.74614761 0.73763179 0.73641525 0.77007299 0.74371452\n",
      " 0.81062449 0.79622871 0.76520681 0.75892133 0.78994323 0.78548256\n",
      " 0.7676399  0.74574209 0.71695053 0.65064882 0.6784266  0.6431468\n",
      " 0.60888078 0.63990268 0.66058394 0.67883212 0.62773723 0.64841849\n",
      " 0.6593674  0.65815085 0.67964315 0.61394972 0.62814274 0.62469586\n",
      " 0.64841849 0.63321168 0.63077859 0.63341444 0.61597729 0.62408759\n",
      " 0.6283455  0.64760746 0.66058394 0.67234388 0.64557989 0.62206002\n",
      " 0.61111111 0.63219789 0.61942417 0.62550689 0.63219789 0.62814274\n",
      " 0.63706407 0.57137064 0.57948094 0.56731549 0.57339822 0.57339822\n",
      " 0.54845904 0.57725061 0.61658556 0.63584753 0.62793998 0.62408759\n",
      " 0.61820762 0.61719384 0.64436334 0.62226277 0.6202352  0.60353321\n",
      " 0.58101994 0.55871457 0.53914928 0.52209437 0.50678486 0.49278235\n",
      " 0.47993678 0.46820864 0.45757183 0.44798601]\n",
      "11 day output [[0.43939844]]\n",
      "12 day input [0.68896999 0.69383617 0.70397405 0.71492295 0.70113544 0.75385239\n",
      " 0.7648013  0.74574209 0.70721817 0.736618   0.75344688 0.7404704\n",
      " 0.74817518 0.736618   0.75385239 0.76520681 0.80312247 0.77230333\n",
      " 0.78487429 0.7404704  0.7175588  0.71695053 0.72587186 0.74493106\n",
      " 0.74614761 0.73763179 0.73641525 0.77007299 0.74371452 0.81062449\n",
      " 0.79622871 0.76520681 0.75892133 0.78994323 0.78548256 0.7676399\n",
      " 0.74574209 0.71695053 0.65064882 0.6784266  0.6431468  0.60888078\n",
      " 0.63990268 0.66058394 0.67883212 0.62773723 0.64841849 0.6593674\n",
      " 0.65815085 0.67964315 0.61394972 0.62814274 0.62469586 0.64841849\n",
      " 0.63321168 0.63077859 0.63341444 0.61597729 0.62408759 0.6283455\n",
      " 0.64760746 0.66058394 0.67234388 0.64557989 0.62206002 0.61111111\n",
      " 0.63219789 0.61942417 0.62550689 0.63219789 0.62814274 0.63706407\n",
      " 0.57137064 0.57948094 0.56731549 0.57339822 0.57339822 0.54845904\n",
      " 0.57725061 0.61658556 0.63584753 0.62793998 0.62408759 0.61820762\n",
      " 0.61719384 0.64436334 0.62226277 0.6202352  0.60353321 0.58101994\n",
      " 0.55871457 0.53914928 0.52209437 0.50678486 0.49278235 0.47993678\n",
      " 0.46820864 0.45757183 0.44798601 0.43939844]\n",
      "12 day output [[0.43174934]]\n",
      "13 day input [0.69383617 0.70397405 0.71492295 0.70113544 0.75385239 0.7648013\n",
      " 0.74574209 0.70721817 0.736618   0.75344688 0.7404704  0.74817518\n",
      " 0.736618   0.75385239 0.76520681 0.80312247 0.77230333 0.78487429\n",
      " 0.7404704  0.7175588  0.71695053 0.72587186 0.74493106 0.74614761\n",
      " 0.73763179 0.73641525 0.77007299 0.74371452 0.81062449 0.79622871\n",
      " 0.76520681 0.75892133 0.78994323 0.78548256 0.7676399  0.74574209\n",
      " 0.71695053 0.65064882 0.6784266  0.6431468  0.60888078 0.63990268\n",
      " 0.66058394 0.67883212 0.62773723 0.64841849 0.6593674  0.65815085\n",
      " 0.67964315 0.61394972 0.62814274 0.62469586 0.64841849 0.63321168\n",
      " 0.63077859 0.63341444 0.61597729 0.62408759 0.6283455  0.64760746\n",
      " 0.66058394 0.67234388 0.64557989 0.62206002 0.61111111 0.63219789\n",
      " 0.61942417 0.62550689 0.63219789 0.62814274 0.63706407 0.57137064\n",
      " 0.57948094 0.56731549 0.57339822 0.57339822 0.54845904 0.57725061\n",
      " 0.61658556 0.63584753 0.62793998 0.62408759 0.61820762 0.61719384\n",
      " 0.64436334 0.62226277 0.6202352  0.60353321 0.58101994 0.55871457\n",
      " 0.53914928 0.52209437 0.50678486 0.49278235 0.47993678 0.46820864\n",
      " 0.45757183 0.44798601 0.43939844 0.43174934]\n",
      "13 day output [[0.42497537]]\n",
      "14 day input [0.70397405 0.71492295 0.70113544 0.75385239 0.7648013  0.74574209\n",
      " 0.70721817 0.736618   0.75344688 0.7404704  0.74817518 0.736618\n",
      " 0.75385239 0.76520681 0.80312247 0.77230333 0.78487429 0.7404704\n",
      " 0.7175588  0.71695053 0.72587186 0.74493106 0.74614761 0.73763179\n",
      " 0.73641525 0.77007299 0.74371452 0.81062449 0.79622871 0.76520681\n",
      " 0.75892133 0.78994323 0.78548256 0.7676399  0.74574209 0.71695053\n",
      " 0.65064882 0.6784266  0.6431468  0.60888078 0.63990268 0.66058394\n",
      " 0.67883212 0.62773723 0.64841849 0.6593674  0.65815085 0.67964315\n",
      " 0.61394972 0.62814274 0.62469586 0.64841849 0.63321168 0.63077859\n",
      " 0.63341444 0.61597729 0.62408759 0.6283455  0.64760746 0.66058394\n",
      " 0.67234388 0.64557989 0.62206002 0.61111111 0.63219789 0.61942417\n",
      " 0.62550689 0.63219789 0.62814274 0.63706407 0.57137064 0.57948094\n",
      " 0.56731549 0.57339822 0.57339822 0.54845904 0.57725061 0.61658556\n",
      " 0.63584753 0.62793998 0.62408759 0.61820762 0.61719384 0.64436334\n",
      " 0.62226277 0.6202352  0.60353321 0.58101994 0.55871457 0.53914928\n",
      " 0.52209437 0.50678486 0.49278235 0.47993678 0.46820864 0.45757183\n",
      " 0.44798601 0.43939844 0.43174934 0.42497537]\n",
      "14 day output [[0.4190106]]\n",
      "15 day input [0.71492295 0.70113544 0.75385239 0.7648013  0.74574209 0.70721817\n",
      " 0.736618   0.75344688 0.7404704  0.74817518 0.736618   0.75385239\n",
      " 0.76520681 0.80312247 0.77230333 0.78487429 0.7404704  0.7175588\n",
      " 0.71695053 0.72587186 0.74493106 0.74614761 0.73763179 0.73641525\n",
      " 0.77007299 0.74371452 0.81062449 0.79622871 0.76520681 0.75892133\n",
      " 0.78994323 0.78548256 0.7676399  0.74574209 0.71695053 0.65064882\n",
      " 0.6784266  0.6431468  0.60888078 0.63990268 0.66058394 0.67883212\n",
      " 0.62773723 0.64841849 0.6593674  0.65815085 0.67964315 0.61394972\n",
      " 0.62814274 0.62469586 0.64841849 0.63321168 0.63077859 0.63341444\n",
      " 0.61597729 0.62408759 0.6283455  0.64760746 0.66058394 0.67234388\n",
      " 0.64557989 0.62206002 0.61111111 0.63219789 0.61942417 0.62550689\n",
      " 0.63219789 0.62814274 0.63706407 0.57137064 0.57948094 0.56731549\n",
      " 0.57339822 0.57339822 0.54845904 0.57725061 0.61658556 0.63584753\n",
      " 0.62793998 0.62408759 0.61820762 0.61719384 0.64436334 0.62226277\n",
      " 0.6202352  0.60353321 0.58101994 0.55871457 0.53914928 0.52209437\n",
      " 0.50678486 0.49278235 0.47993678 0.46820864 0.45757183 0.44798601\n",
      " 0.43939844 0.43174934 0.42497537 0.41901061]\n",
      "15 day output [[0.41378653]]\n",
      "16 day input [0.70113544 0.75385239 0.7648013  0.74574209 0.70721817 0.736618\n",
      " 0.75344688 0.7404704  0.74817518 0.736618   0.75385239 0.76520681\n",
      " 0.80312247 0.77230333 0.78487429 0.7404704  0.7175588  0.71695053\n",
      " 0.72587186 0.74493106 0.74614761 0.73763179 0.73641525 0.77007299\n",
      " 0.74371452 0.81062449 0.79622871 0.76520681 0.75892133 0.78994323\n",
      " 0.78548256 0.7676399  0.74574209 0.71695053 0.65064882 0.6784266\n",
      " 0.6431468  0.60888078 0.63990268 0.66058394 0.67883212 0.62773723\n",
      " 0.64841849 0.6593674  0.65815085 0.67964315 0.61394972 0.62814274\n",
      " 0.62469586 0.64841849 0.63321168 0.63077859 0.63341444 0.61597729\n",
      " 0.62408759 0.6283455  0.64760746 0.66058394 0.67234388 0.64557989\n",
      " 0.62206002 0.61111111 0.63219789 0.61942417 0.62550689 0.63219789\n",
      " 0.62814274 0.63706407 0.57137064 0.57948094 0.56731549 0.57339822\n",
      " 0.57339822 0.54845904 0.57725061 0.61658556 0.63584753 0.62793998\n",
      " 0.62408759 0.61820762 0.61719384 0.64436334 0.62226277 0.6202352\n",
      " 0.60353321 0.58101994 0.55871457 0.53914928 0.52209437 0.50678486\n",
      " 0.49278235 0.47993678 0.46820864 0.45757183 0.44798601 0.43939844\n",
      " 0.43174934 0.42497537 0.41901061 0.41378653]\n"
     ]
    },
    {
     "name": "stdout",
     "output_type": "stream",
     "text": [
      "16 day output [[0.40923223]]\n",
      "17 day input [0.75385239 0.7648013  0.74574209 0.70721817 0.736618   0.75344688\n",
      " 0.7404704  0.74817518 0.736618   0.75385239 0.76520681 0.80312247\n",
      " 0.77230333 0.78487429 0.7404704  0.7175588  0.71695053 0.72587186\n",
      " 0.74493106 0.74614761 0.73763179 0.73641525 0.77007299 0.74371452\n",
      " 0.81062449 0.79622871 0.76520681 0.75892133 0.78994323 0.78548256\n",
      " 0.7676399  0.74574209 0.71695053 0.65064882 0.6784266  0.6431468\n",
      " 0.60888078 0.63990268 0.66058394 0.67883212 0.62773723 0.64841849\n",
      " 0.6593674  0.65815085 0.67964315 0.61394972 0.62814274 0.62469586\n",
      " 0.64841849 0.63321168 0.63077859 0.63341444 0.61597729 0.62408759\n",
      " 0.6283455  0.64760746 0.66058394 0.67234388 0.64557989 0.62206002\n",
      " 0.61111111 0.63219789 0.61942417 0.62550689 0.63219789 0.62814274\n",
      " 0.63706407 0.57137064 0.57948094 0.56731549 0.57339822 0.57339822\n",
      " 0.54845904 0.57725061 0.61658556 0.63584753 0.62793998 0.62408759\n",
      " 0.61820762 0.61719384 0.64436334 0.62226277 0.6202352  0.60353321\n",
      " 0.58101994 0.55871457 0.53914928 0.52209437 0.50678486 0.49278235\n",
      " 0.47993678 0.46820864 0.45757183 0.44798601 0.43939844 0.43174934\n",
      " 0.42497537 0.41901061 0.41378653 0.40923223]\n",
      "17 day output [[0.40527588]]\n",
      "18 day input [0.7648013  0.74574209 0.70721817 0.736618   0.75344688 0.7404704\n",
      " 0.74817518 0.736618   0.75385239 0.76520681 0.80312247 0.77230333\n",
      " 0.78487429 0.7404704  0.7175588  0.71695053 0.72587186 0.74493106\n",
      " 0.74614761 0.73763179 0.73641525 0.77007299 0.74371452 0.81062449\n",
      " 0.79622871 0.76520681 0.75892133 0.78994323 0.78548256 0.7676399\n",
      " 0.74574209 0.71695053 0.65064882 0.6784266  0.6431468  0.60888078\n",
      " 0.63990268 0.66058394 0.67883212 0.62773723 0.64841849 0.6593674\n",
      " 0.65815085 0.67964315 0.61394972 0.62814274 0.62469586 0.64841849\n",
      " 0.63321168 0.63077859 0.63341444 0.61597729 0.62408759 0.6283455\n",
      " 0.64760746 0.66058394 0.67234388 0.64557989 0.62206002 0.61111111\n",
      " 0.63219789 0.61942417 0.62550689 0.63219789 0.62814274 0.63706407\n",
      " 0.57137064 0.57948094 0.56731549 0.57339822 0.57339822 0.54845904\n",
      " 0.57725061 0.61658556 0.63584753 0.62793998 0.62408759 0.61820762\n",
      " 0.61719384 0.64436334 0.62226277 0.6202352  0.60353321 0.58101994\n",
      " 0.55871457 0.53914928 0.52209437 0.50678486 0.49278235 0.47993678\n",
      " 0.46820864 0.45757183 0.44798601 0.43939844 0.43174934 0.42497537\n",
      " 0.41901061 0.41378653 0.40923223 0.40527588]\n",
      "18 day output [[0.40184525]]\n",
      "19 day input [0.74574209 0.70721817 0.736618   0.75344688 0.7404704  0.74817518\n",
      " 0.736618   0.75385239 0.76520681 0.80312247 0.77230333 0.78487429\n",
      " 0.7404704  0.7175588  0.71695053 0.72587186 0.74493106 0.74614761\n",
      " 0.73763179 0.73641525 0.77007299 0.74371452 0.81062449 0.79622871\n",
      " 0.76520681 0.75892133 0.78994323 0.78548256 0.7676399  0.74574209\n",
      " 0.71695053 0.65064882 0.6784266  0.6431468  0.60888078 0.63990268\n",
      " 0.66058394 0.67883212 0.62773723 0.64841849 0.6593674  0.65815085\n",
      " 0.67964315 0.61394972 0.62814274 0.62469586 0.64841849 0.63321168\n",
      " 0.63077859 0.63341444 0.61597729 0.62408759 0.6283455  0.64760746\n",
      " 0.66058394 0.67234388 0.64557989 0.62206002 0.61111111 0.63219789\n",
      " 0.61942417 0.62550689 0.63219789 0.62814274 0.63706407 0.57137064\n",
      " 0.57948094 0.56731549 0.57339822 0.57339822 0.54845904 0.57725061\n",
      " 0.61658556 0.63584753 0.62793998 0.62408759 0.61820762 0.61719384\n",
      " 0.64436334 0.62226277 0.6202352  0.60353321 0.58101994 0.55871457\n",
      " 0.53914928 0.52209437 0.50678486 0.49278235 0.47993678 0.46820864\n",
      " 0.45757183 0.44798601 0.43939844 0.43174934 0.42497537 0.41901061\n",
      " 0.41378653 0.40923223 0.40527588 0.40184525]\n",
      "19 day output [[0.39886898]]\n",
      "20 day input [0.70721817 0.736618   0.75344688 0.7404704  0.74817518 0.736618\n",
      " 0.75385239 0.76520681 0.80312247 0.77230333 0.78487429 0.7404704\n",
      " 0.7175588  0.71695053 0.72587186 0.74493106 0.74614761 0.73763179\n",
      " 0.73641525 0.77007299 0.74371452 0.81062449 0.79622871 0.76520681\n",
      " 0.75892133 0.78994323 0.78548256 0.7676399  0.74574209 0.71695053\n",
      " 0.65064882 0.6784266  0.6431468  0.60888078 0.63990268 0.66058394\n",
      " 0.67883212 0.62773723 0.64841849 0.6593674  0.65815085 0.67964315\n",
      " 0.61394972 0.62814274 0.62469586 0.64841849 0.63321168 0.63077859\n",
      " 0.63341444 0.61597729 0.62408759 0.6283455  0.64760746 0.66058394\n",
      " 0.67234388 0.64557989 0.62206002 0.61111111 0.63219789 0.61942417\n",
      " 0.62550689 0.63219789 0.62814274 0.63706407 0.57137064 0.57948094\n",
      " 0.56731549 0.57339822 0.57339822 0.54845904 0.57725061 0.61658556\n",
      " 0.63584753 0.62793998 0.62408759 0.61820762 0.61719384 0.64436334\n",
      " 0.62226277 0.6202352  0.60353321 0.58101994 0.55871457 0.53914928\n",
      " 0.52209437 0.50678486 0.49278235 0.47993678 0.46820864 0.45757183\n",
      " 0.44798601 0.43939844 0.43174934 0.42497537 0.41901061 0.41378653\n",
      " 0.40923223 0.40527588 0.40184525 0.39886898]\n",
      "20 day output [[0.3962783]]\n",
      "21 day input [0.736618   0.75344688 0.7404704  0.74817518 0.736618   0.75385239\n",
      " 0.76520681 0.80312247 0.77230333 0.78487429 0.7404704  0.7175588\n",
      " 0.71695053 0.72587186 0.74493106 0.74614761 0.73763179 0.73641525\n",
      " 0.77007299 0.74371452 0.81062449 0.79622871 0.76520681 0.75892133\n",
      " 0.78994323 0.78548256 0.7676399  0.74574209 0.71695053 0.65064882\n",
      " 0.6784266  0.6431468  0.60888078 0.63990268 0.66058394 0.67883212\n",
      " 0.62773723 0.64841849 0.6593674  0.65815085 0.67964315 0.61394972\n",
      " 0.62814274 0.62469586 0.64841849 0.63321168 0.63077859 0.63341444\n",
      " 0.61597729 0.62408759 0.6283455  0.64760746 0.66058394 0.67234388\n",
      " 0.64557989 0.62206002 0.61111111 0.63219789 0.61942417 0.62550689\n",
      " 0.63219789 0.62814274 0.63706407 0.57137064 0.57948094 0.56731549\n",
      " 0.57339822 0.57339822 0.54845904 0.57725061 0.61658556 0.63584753\n",
      " 0.62793998 0.62408759 0.61820762 0.61719384 0.64436334 0.62226277\n",
      " 0.6202352  0.60353321 0.58101994 0.55871457 0.53914928 0.52209437\n",
      " 0.50678486 0.49278235 0.47993678 0.46820864 0.45757183 0.44798601\n",
      " 0.43939844 0.43174934 0.42497537 0.41901061 0.41378653 0.40923223\n",
      " 0.40527588 0.40184525 0.39886898 0.39627829]\n",
      "21 day output [[0.3940078]]\n",
      "22 day input [0.75344688 0.7404704  0.74817518 0.736618   0.75385239 0.76520681\n",
      " 0.80312247 0.77230333 0.78487429 0.7404704  0.7175588  0.71695053\n",
      " 0.72587186 0.74493106 0.74614761 0.73763179 0.73641525 0.77007299\n",
      " 0.74371452 0.81062449 0.79622871 0.76520681 0.75892133 0.78994323\n",
      " 0.78548256 0.7676399  0.74574209 0.71695053 0.65064882 0.6784266\n",
      " 0.6431468  0.60888078 0.63990268 0.66058394 0.67883212 0.62773723\n",
      " 0.64841849 0.6593674  0.65815085 0.67964315 0.61394972 0.62814274\n",
      " 0.62469586 0.64841849 0.63321168 0.63077859 0.63341444 0.61597729\n",
      " 0.62408759 0.6283455  0.64760746 0.66058394 0.67234388 0.64557989\n",
      " 0.62206002 0.61111111 0.63219789 0.61942417 0.62550689 0.63219789\n",
      " 0.62814274 0.63706407 0.57137064 0.57948094 0.56731549 0.57339822\n",
      " 0.57339822 0.54845904 0.57725061 0.61658556 0.63584753 0.62793998\n",
      " 0.62408759 0.61820762 0.61719384 0.64436334 0.62226277 0.6202352\n",
      " 0.60353321 0.58101994 0.55871457 0.53914928 0.52209437 0.50678486\n",
      " 0.49278235 0.47993678 0.46820864 0.45757183 0.44798601 0.43939844\n",
      " 0.43174934 0.42497537 0.41901061 0.41378653 0.40923223 0.40527588\n",
      " 0.40184525 0.39886898 0.39627829 0.3940078 ]\n",
      "22 day output [[0.3919965]]\n",
      "23 day input [0.7404704  0.74817518 0.736618   0.75385239 0.76520681 0.80312247\n",
      " 0.77230333 0.78487429 0.7404704  0.7175588  0.71695053 0.72587186\n",
      " 0.74493106 0.74614761 0.73763179 0.73641525 0.77007299 0.74371452\n",
      " 0.81062449 0.79622871 0.76520681 0.75892133 0.78994323 0.78548256\n",
      " 0.7676399  0.74574209 0.71695053 0.65064882 0.6784266  0.6431468\n",
      " 0.60888078 0.63990268 0.66058394 0.67883212 0.62773723 0.64841849\n",
      " 0.6593674  0.65815085 0.67964315 0.61394972 0.62814274 0.62469586\n",
      " 0.64841849 0.63321168 0.63077859 0.63341444 0.61597729 0.62408759\n",
      " 0.6283455  0.64760746 0.66058394 0.67234388 0.64557989 0.62206002\n",
      " 0.61111111 0.63219789 0.61942417 0.62550689 0.63219789 0.62814274\n",
      " 0.63706407 0.57137064 0.57948094 0.56731549 0.57339822 0.57339822\n",
      " 0.54845904 0.57725061 0.61658556 0.63584753 0.62793998 0.62408759\n",
      " 0.61820762 0.61719384 0.64436334 0.62226277 0.6202352  0.60353321\n",
      " 0.58101994 0.55871457 0.53914928 0.52209437 0.50678486 0.49278235\n",
      " 0.47993678 0.46820864 0.45757183 0.44798601 0.43939844 0.43174934\n",
      " 0.42497537 0.41901061 0.41378653 0.40923223 0.40527588 0.40184525\n",
      " 0.39886898 0.39627829 0.3940078  0.3919965 ]\n",
      "23 day output [[0.39018902]]\n",
      "24 day input [0.74817518 0.736618   0.75385239 0.76520681 0.80312247 0.77230333\n",
      " 0.78487429 0.7404704  0.7175588  0.71695053 0.72587186 0.74493106\n",
      " 0.74614761 0.73763179 0.73641525 0.77007299 0.74371452 0.81062449\n",
      " 0.79622871 0.76520681 0.75892133 0.78994323 0.78548256 0.7676399\n",
      " 0.74574209 0.71695053 0.65064882 0.6784266  0.6431468  0.60888078\n",
      " 0.63990268 0.66058394 0.67883212 0.62773723 0.64841849 0.6593674\n",
      " 0.65815085 0.67964315 0.61394972 0.62814274 0.62469586 0.64841849\n",
      " 0.63321168 0.63077859 0.63341444 0.61597729 0.62408759 0.6283455\n",
      " 0.64760746 0.66058394 0.67234388 0.64557989 0.62206002 0.61111111\n",
      " 0.63219789 0.61942417 0.62550689 0.63219789 0.62814274 0.63706407\n",
      " 0.57137064 0.57948094 0.56731549 0.57339822 0.57339822 0.54845904\n",
      " 0.57725061 0.61658556 0.63584753 0.62793998 0.62408759 0.61820762\n",
      " 0.61719384 0.64436334 0.62226277 0.6202352  0.60353321 0.58101994\n",
      " 0.55871457 0.53914928 0.52209437 0.50678486 0.49278235 0.47993678\n",
      " 0.46820864 0.45757183 0.44798601 0.43939844 0.43174934 0.42497537\n",
      " 0.41901061 0.41378653 0.40923223 0.40527588 0.40184525 0.39886898\n",
      " 0.39627829 0.3940078  0.3919965  0.39018902]\n"
     ]
    },
    {
     "name": "stdout",
     "output_type": "stream",
     "text": [
      "24 day output [[0.3885353]]\n",
      "25 day input [0.736618   0.75385239 0.76520681 0.80312247 0.77230333 0.78487429\n",
      " 0.7404704  0.7175588  0.71695053 0.72587186 0.74493106 0.74614761\n",
      " 0.73763179 0.73641525 0.77007299 0.74371452 0.81062449 0.79622871\n",
      " 0.76520681 0.75892133 0.78994323 0.78548256 0.7676399  0.74574209\n",
      " 0.71695053 0.65064882 0.6784266  0.6431468  0.60888078 0.63990268\n",
      " 0.66058394 0.67883212 0.62773723 0.64841849 0.6593674  0.65815085\n",
      " 0.67964315 0.61394972 0.62814274 0.62469586 0.64841849 0.63321168\n",
      " 0.63077859 0.63341444 0.61597729 0.62408759 0.6283455  0.64760746\n",
      " 0.66058394 0.67234388 0.64557989 0.62206002 0.61111111 0.63219789\n",
      " 0.61942417 0.62550689 0.63219789 0.62814274 0.63706407 0.57137064\n",
      " 0.57948094 0.56731549 0.57339822 0.57339822 0.54845904 0.57725061\n",
      " 0.61658556 0.63584753 0.62793998 0.62408759 0.61820762 0.61719384\n",
      " 0.64436334 0.62226277 0.6202352  0.60353321 0.58101994 0.55871457\n",
      " 0.53914928 0.52209437 0.50678486 0.49278235 0.47993678 0.46820864\n",
      " 0.45757183 0.44798601 0.43939844 0.43174934 0.42497537 0.41901061\n",
      " 0.41378653 0.40923223 0.40527588 0.40184525 0.39886898 0.39627829\n",
      " 0.3940078  0.3919965  0.39018902 0.38853529]\n",
      "25 day output [[0.38699126]]\n",
      "26 day input [0.75385239 0.76520681 0.80312247 0.77230333 0.78487429 0.7404704\n",
      " 0.7175588  0.71695053 0.72587186 0.74493106 0.74614761 0.73763179\n",
      " 0.73641525 0.77007299 0.74371452 0.81062449 0.79622871 0.76520681\n",
      " 0.75892133 0.78994323 0.78548256 0.7676399  0.74574209 0.71695053\n",
      " 0.65064882 0.6784266  0.6431468  0.60888078 0.63990268 0.66058394\n",
      " 0.67883212 0.62773723 0.64841849 0.6593674  0.65815085 0.67964315\n",
      " 0.61394972 0.62814274 0.62469586 0.64841849 0.63321168 0.63077859\n",
      " 0.63341444 0.61597729 0.62408759 0.6283455  0.64760746 0.66058394\n",
      " 0.67234388 0.64557989 0.62206002 0.61111111 0.63219789 0.61942417\n",
      " 0.62550689 0.63219789 0.62814274 0.63706407 0.57137064 0.57948094\n",
      " 0.56731549 0.57339822 0.57339822 0.54845904 0.57725061 0.61658556\n",
      " 0.63584753 0.62793998 0.62408759 0.61820762 0.61719384 0.64436334\n",
      " 0.62226277 0.6202352  0.60353321 0.58101994 0.55871457 0.53914928\n",
      " 0.52209437 0.50678486 0.49278235 0.47993678 0.46820864 0.45757183\n",
      " 0.44798601 0.43939844 0.43174934 0.42497537 0.41901061 0.41378653\n",
      " 0.40923223 0.40527588 0.40184525 0.39886898 0.39627829 0.3940078\n",
      " 0.3919965  0.39018902 0.38853529 0.38699126]\n",
      "26 day output [[0.385519]]\n",
      "27 day input [0.76520681 0.80312247 0.77230333 0.78487429 0.7404704  0.7175588\n",
      " 0.71695053 0.72587186 0.74493106 0.74614761 0.73763179 0.73641525\n",
      " 0.77007299 0.74371452 0.81062449 0.79622871 0.76520681 0.75892133\n",
      " 0.78994323 0.78548256 0.7676399  0.74574209 0.71695053 0.65064882\n",
      " 0.6784266  0.6431468  0.60888078 0.63990268 0.66058394 0.67883212\n",
      " 0.62773723 0.64841849 0.6593674  0.65815085 0.67964315 0.61394972\n",
      " 0.62814274 0.62469586 0.64841849 0.63321168 0.63077859 0.63341444\n",
      " 0.61597729 0.62408759 0.6283455  0.64760746 0.66058394 0.67234388\n",
      " 0.64557989 0.62206002 0.61111111 0.63219789 0.61942417 0.62550689\n",
      " 0.63219789 0.62814274 0.63706407 0.57137064 0.57948094 0.56731549\n",
      " 0.57339822 0.57339822 0.54845904 0.57725061 0.61658556 0.63584753\n",
      " 0.62793998 0.62408759 0.61820762 0.61719384 0.64436334 0.62226277\n",
      " 0.6202352  0.60353321 0.58101994 0.55871457 0.53914928 0.52209437\n",
      " 0.50678486 0.49278235 0.47993678 0.46820864 0.45757183 0.44798601\n",
      " 0.43939844 0.43174934 0.42497537 0.41901061 0.41378653 0.40923223\n",
      " 0.40527588 0.40184525 0.39886898 0.39627829 0.3940078  0.3919965\n",
      " 0.39018902 0.38853529 0.38699126 0.385519  ]\n",
      "27 day output [[0.3840864]]\n",
      "[[0.6035332083702087], [0.581019937992096], [0.5587145686149597], [0.539149284362793], [0.5220943689346313], [0.5067848563194275], [0.4927823543548584], [0.47993677854537964], [0.4682086408138275], [0.4575718343257904], [0.44798600673675537], [0.4393984377384186], [0.4317493438720703], [0.42497536540031433], [0.41901060938835144], [0.41378653049468994], [0.4092322289943695], [0.4052758812904358], [0.401845246553421], [0.39886897802352905], [0.3962782919406891], [0.3940078020095825], [0.39199650287628174], [0.3901890218257904], [0.3885352909564972], [0.3869912624359131], [0.38551899790763855], [0.38408640027046204]]\n"
     ]
    }
   ],
   "source": [
    "temp_input = list(x_input)\n",
    "temp_input = temp_input[0].tolist()\n",
    "\n",
    "lst_output = []\n",
    "n_steps = 100\n",
    "nextNumberOfDays = 28\n",
    "i = 0\n",
    "\n",
    "while(i < 28):\n",
    "\n",
    "    if(len(temp_input) > 100):\n",
    "        x_input = np.array(temp_input[1:])\n",
    "        print(\"{} day input {}\".format(i,x_input))\n",
    "        x_input = x_input.reshape(1,-1)\n",
    "        x_input = x_input.reshape((1, n_steps, 1))\n",
    "        yhat = model.predict(x_input, verbose=0)\n",
    "        print(\"{} day output {}\".format(i,yhat))\n",
    "        temp_input.extend(yhat[0].tolist())\n",
    "        temp_input = temp_input[1:]\n",
    "        lst_output.extend(yhat.tolist())\n",
    "        i = i+1\n",
    "    \n",
    "    else:\n",
    "        x_input = x_input.reshape((1, n_steps,1))\n",
    "        yhat = model.predict(x_input, verbose=0)\n",
    "        print(yhat[0])\n",
    "        temp_input.extend(yhat[0].tolist())\n",
    "        print(len(temp_input))\n",
    "        lst_output.extend(yhat.tolist())\n",
    "        i=i+1\n",
    "        \n",
    "        \n",
    "print(lst_output)    "
   ]
  },
  {
   "cell_type": "code",
   "execution_count": 46,
   "id": "5ab58173",
   "metadata": {},
   "outputs": [],
   "source": [
    "day_new = np.arange(1,101)\n",
    "day_pred = np.arange(101,129)"
   ]
  },
  {
   "cell_type": "code",
   "execution_count": 47,
   "id": "38c12a87",
   "metadata": {},
   "outputs": [
    {
     "data": {
      "text/plain": [
       "2035"
      ]
     },
     "execution_count": 47,
     "metadata": {},
     "output_type": "execute_result"
    }
   ],
   "source": [
    "data1_new = data1.tolist()\n",
    "data1_new.extend(lst_output)\n",
    "\n",
    "len(data1)"
   ]
  },
  {
   "cell_type": "code",
   "execution_count": 49,
   "id": "70408d09",
   "metadata": {},
   "outputs": [
    {
     "data": {
      "image/png": "[encoded data removed]",
      "text/plain": [
       "<Figure size 432x288 with 1 Axes>"
      ]
     },
     "metadata": {
      "needs_background": "light"
     },
     "output_type": "display_data"
    }
   ],
   "source": [
    "plt.plot(day_new,scaler.inverse_transform(data1[1935:]),'b')\n",
    "plt.plot(day_pred,scaler.inverse_transform(lst_output),'r')\n",
    "plt.show()"
   ]
  },
  {
   "cell_type": "code",
   "execution_count": 50,
   "id": "f46eba27",
   "metadata": {},
   "outputs": [
    {
     "data": {
      "image/png": "[encoded data removed]",
      "text/plain": [
       "<Figure size 432x288 with 1 Axes>"
      ]
     },
     "metadata": {
      "needs_background": "light"
     },
     "output_type": "display_data"
    }
   ],
   "source": [
    "data1_new = data1.tolist()\n",
    "data1_new.extend(lst_output)\n",
    "plt.plot(data1_new[2000:],'r')\n",
    "plt.show()"
   ]
  },
  {
   "cell_type": "code",
   "execution_count": 53,
   "id": "9f1d469e",
   "metadata": {},
   "outputs": [
    {
     "data": {
      "image/png": "[encoded data removed]",
      "text/plain": [
       "<Figure size 432x288 with 1 Axes>"
      ]
     },
     "metadata": {
      "needs_background": "light"
     },
     "output_type": "display_data"
    }
   ],
   "source": [
    "data1_new = scaler.inverse_transform(data1_new).tolist()\n",
    "plt.plot(data1_new)\n",
    "plt.show()"
   ]
  },
  {
   "cell_type": "code",
   "execution_count": null,
   "id": "7105a9b0",
   "metadata": {},
   "outputs": [],
   "source": []
  }
 ],
 "metadata": {
  "kernelspec": {
   "display_name": "Python 3 (ipykernel)",
   "language": "python",
   "name": "python3"
  },
  "language_info": {
   "codemirror_mode": {
    "name": "ipython",
    "version": 3
   },
   "file_extension": ".py",
   "mimetype": "text/x-python",
   "name": "python",
   "nbconvert_exporter": "python",
   "pygments_lexer": "ipython3",
   "version": "3.9.7"
  }
 },
 "nbformat": 4,
 "nbformat_minor": 5
}
